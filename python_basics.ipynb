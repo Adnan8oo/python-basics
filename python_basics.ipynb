{
  "nbformat": 4,
  "nbformat_minor": 0,
  "metadata": {
    "colab": {
      "provenance": []
    },
    "kernelspec": {
      "name": "python3",
      "display_name": "Python 3"
    },
    "language_info": {
      "name": "python"
    }
  },
  "cells": [
    {
      "cell_type": "code",
      "execution_count": null,
      "metadata": {
        "id": "pB1YT9u7YC3x"
      },
      "outputs": [],
      "source": []
    },
    {
      "cell_type": "markdown",
      "source": [
        "1. What is Python, and why is it popular ?\n",
        "  - Python is a high-level, interpreted programming language known for its simplicity, readability, and versatility. It was created by Guido van Rossum and first released in 1991.\n",
        "  - It is designed to emphasize straightforward syntax, making it beginner-friendly while still powerful for advanced users.\n",
        "\n",
        "  Python’s popularity comes from several key factors\n",
        "   -  Versatility: Python can be used for web development, data analysis, machine learning, automation, game development, and more.\n",
        "\n",
        "   - Rich Ecosystem: It offers a vast library of modules and frameworks, such as Django for web development, pandas for data manipulation, and TensorFlow for artificial intelligence.\n",
        "\n",
        "  - Community Support: With an extensive and active community, it's easy to find resources, tutorials, and help online.\n",
        "\n",
        "  - Readability: Its clean and concise syntax allows developers to write less code, making it easier to debug and maintain.\n",
        "\n",
        "2. What is an interpreter in Python ?\n",
        "  - An interpreter in Python is a program that executes Python code line by line instead of compiling the entire code at once (like in C or Java)\n",
        "  - When you write a Python script and run it, the interpreter reads each line of code, converts it into machine language, and executes it immediately.\n",
        "  - This allows developers to run their programs without a separate compilation step, making Python highly flexible and interactive.\n",
        "\n",
        "3. What are pre-defined keywords in Python ?\n",
        "    - Pre-defined keywords in Python are reserved words that have a special meaning and cannot be used as variable names, function names, or identifiers. These keywords are pre-defined by Python and are used to define the syntax and structure of the language.\n",
        "\n",
        "  - Control Flow:\n",
        "\n",
        "     if, elif, else - for conditional statements.\n",
        "\n",
        "     for, while, break, continue - for loops.\n",
        "\n",
        "     pass - to indicate an empty block of code.\n",
        "\n",
        "   - Error Handling:\n",
        "\n",
        "     try, except, finally, raise, assert.\n",
        "\n",
        "  - Functions and Classes:\n",
        "\n",
        "     def - to define a function.\n",
        "\n",
        "     class - to define a class.\n",
        "\n",
        "     return, yield.\n",
        "\n",
        "  - Logical and Boolean Operations:\n",
        "\n",
        "     and, or, not, is, in.\n",
        "\n",
        "  - Variable Scope and Assignment:\n",
        "\n",
        "     global, nonlocal, del.\n",
        "\n",
        "  - Special Purpose:\n",
        "\n",
        "     with, as - for context managers.\n",
        "\n",
        "     lambda - for anonymous functions.\n",
        "\n",
        "     import, from - for importing modules.\n",
        "\n",
        "  - Boolean and None Values:\n",
        "\n",
        "     True, False, None.\n",
        "\n",
        "  - import keyword\n",
        "     print(keyword.kwlist)\n",
        "You can get a full list of keywords in your version of Python by running this code\n",
        "\n",
        "4. Can keywords be used as variable names ?\n",
        "  - No, keywords cannot be used as variable names in Python because they are reserved words that have a special meaning in the language. Using a keyword as a variable name will result in a SyntaxError.\n",
        "\n",
        "5.  What is mutability in Python ?\n",
        "  - Mutability in Python refers to an object's ability to be modified or changed after it has been created. Depending on their data type, Python objects fall into two categories\n",
        "  - Mutable Objects: These are objects whose values can be changed or altered after their creation without changing their identity (i.e., their memory address remains the same).  \n",
        "  Mutable objects (e.g., list, dict, set) can be modified.\n",
        "  - Immutable Objects: These are objects whose values cannot be changed once they are created. Any \"modification\" results in the creation of a new object with a new identity.  \n",
        "  Immutable objects (e.g., int, str, tuple) cannot be modified after creation\n",
        "6.  Why are lists mutable, but tuples are immutable ?\n",
        "  - Lists are designed to be dynamic and flexible. They're used when you need to store a collection of items that might change over time. This includes adding, removing, or updating elements, which makes mutability essential. Lists are mutable because they need flexibility for modifications.Use lists when you need to modify data.\n",
        "  - Tuples are used to represent fixed collections of items that shouldn't be modified. They're often employed to group related data or as keys in dictionaries (since keys must be immutable). Tuples are immutable for performance, security, and hashability. Use tuples when data should remain constant.\n",
        "\n",
        "7. What is the difference between “==” and “is” operators in Python ?\n",
        "  - The == operator checks whether the values of two objects are equal, regardless of their identities (memory locations). In other words, it determines whether the contents of two objects are the same.\n",
        "   == compares values (contents).\n",
        "  - The is operator checks whether two objects are identical, meaning they point to the same memory location. It determines if both variables refer to the exact same object. is compares identities (memory addresses).\n",
        "\n",
        "8.  What are logical operators in Python ?\n",
        "  - Logical operators in Python are used to perform logical operations on Boolean values (True and False). These operators are often employed in conditional statements to combine or invert conditions.\n",
        "\n",
        "  - Logical operators are used to combine conditional statements:\n",
        "\n",
        "     and: Returns True if both conditions are True.\n",
        "\n",
        "     or: Returns True if at least one condition is True.\n",
        "\n",
        "     not: Returns the opposite of the condition’s truth value.\n",
        "\n",
        "9. What is type casting in Python?\n",
        "   - Type casting is converting one data type into another. It allows for compatibility between different types, such as converting integers to floats or strings to integers.\n",
        "\n",
        "10. What is the difference between implicit and explicit type casting?\n",
        "\n",
        "  - Implicit type casting: Python automatically converts a smaller data type into a larger one (e.g., int to float).\n",
        "Explicit type casting: The programmer manually converts a data type using functions like int(), float(), or str().\n",
        "\n",
        "11. What is the purpose of conditional statements in Python?\n",
        "\n",
        " - Conditional statements allow a program to make decisions based on conditions. They control the flow of execution using if, elif, and else to execute different blocks of code depending on the given conditions.\n",
        "  \n",
        "12. How does the elif statement work?\n",
        "\n",
        " - The elif statement provides additional conditions after an if statement. If the initial if condition is false, Python checks elif conditions sequentially. If an elif condition is true, its block of code executes, and the rest are ignored.\n",
        "\n",
        "13. What is the difference between for and while loops?\n",
        "\n",
        " - for loop: Used when the number of iterations is known; it iterates over sequences like lists or ranges.\n",
        "while loop: Used when the number of iterations is unknown and continues as long as a condition remains true.\n",
        "\n",
        "14. Describe a scenario where a while loop is more suitable than a for loop.\n",
        "\n",
        " - A while loop is useful when the number of iterations is uncertain. For example, in a user authentication system, a while loop can repeatedly prompt the user for a password until they enter the correct one. This ensures the loop continues until a valid input is provided, rather than a fixed number of iterations.\n",
        "\n",
        "\n",
        "\n",
        "Practical Questions & Answers\n",
        "\n",
        "\n",
        "\n",
        "1. Write a Python program to print \"Hello, World!\"\n",
        "\n",
        "\n",
        "\n",
        "\n"
      ],
      "metadata": {
        "id": "z9VzfmGCdesc"
      }
    },
    {
      "cell_type": "code",
      "source": [
        "print(\"Hello, World!\")"
      ],
      "metadata": {
        "colab": {
          "base_uri": "https://localhost:8080/"
        },
        "id": "FbxhzPsnZ03Q",
        "outputId": "049bb7d7-9dc5-4fe6-8af3-7fb3a38e2717"
      },
      "execution_count": 1,
      "outputs": [
        {
          "output_type": "stream",
          "name": "stdout",
          "text": [
            "Hello, World!\n"
          ]
        }
      ]
    },
    {
      "cell_type": "markdown",
      "source": [
        "2. Write a Python program that displays your name and age."
      ],
      "metadata": {
        "id": "IcNm9zMHaXfr"
      }
    },
    {
      "cell_type": "code",
      "source": [
        "name = \"Adnan Hussain\"\n",
        "age = 24\n",
        "print(f\"My name is {name} and my age is {age}.\")"
      ],
      "metadata": {
        "colab": {
          "base_uri": "https://localhost:8080/"
        },
        "id": "nfKbP1-DaezN",
        "outputId": "9b748b1c-a7fc-4468-8a7c-5db2c8b87c4a"
      },
      "execution_count": 2,
      "outputs": [
        {
          "output_type": "stream",
          "name": "stdout",
          "text": [
            "My name is Adnan Hussain and my age is 24.\n"
          ]
        }
      ]
    },
    {
      "cell_type": "markdown",
      "source": [],
      "metadata": {
        "id": "znArQiEJZ1ap"
      }
    },
    {
      "cell_type": "markdown",
      "source": [
        "3. Write code to print all the pre-defined keywords in Python using the keyword library."
      ],
      "metadata": {
        "id": "dGvdrofcawPp"
      }
    },
    {
      "cell_type": "code",
      "source": [
        "import keyword\n",
        "print(keyword.kwlist)"
      ],
      "metadata": {
        "colab": {
          "base_uri": "https://localhost:8080/"
        },
        "id": "_G1YjOBYa2HI",
        "outputId": "064b0faf-3738-4e84-9bcd-d016b860de83"
      },
      "execution_count": 3,
      "outputs": [
        {
          "output_type": "stream",
          "name": "stdout",
          "text": [
            "['False', 'None', 'True', 'and', 'as', 'assert', 'async', 'await', 'break', 'class', 'continue', 'def', 'del', 'elif', 'else', 'except', 'finally', 'for', 'from', 'global', 'if', 'import', 'in', 'is', 'lambda', 'nonlocal', 'not', 'or', 'pass', 'raise', 'return', 'try', 'while', 'with', 'yield']\n"
          ]
        }
      ]
    },
    {
      "cell_type": "markdown",
      "source": [
        "4. Write a program that checks if a given word is a Python keyword."
      ],
      "metadata": {
        "id": "KzIhUTN6bG01"
      }
    },
    {
      "cell_type": "code",
      "source": [
        "import keyword\n",
        "word = input(\"Enter a word here: \")\n",
        "if keyword.iskeyword(word):\n",
        "    print(f\"{word} is a Python keyword.\")\n",
        "else:\n",
        "    print(f\"{word} is not a Python keyword.\")"
      ],
      "metadata": {
        "id": "nzS3KPCVbOow"
      },
      "execution_count": null,
      "outputs": []
    },
    {
      "cell_type": "markdown",
      "source": [
        "5. Create a list and tuple in Python, and demonstrate how attempting to change an element works differently for each."
      ],
      "metadata": {
        "id": "qdYBo8vBbkW_"
      }
    },
    {
      "cell_type": "code",
      "source": [
        "l = [25,60,45,30,90]\n",
        "t = (25,60,45,30,90)\n",
        "\n",
        "# Modifying an element in the list\n",
        "l[0] = \"Adnan\"\n",
        "print(\"Modify list:\",l)\n",
        "\n",
        "# Attempting to modify an element in the tuple (will raise an error)\n",
        "try:\n",
        "    t[2] = \"Adnan\"\n",
        "except TypeError as e:\n",
        "    print(\"Error:\", e)"
      ],
      "metadata": {
        "id": "z8fm45bbbr-k"
      },
      "execution_count": null,
      "outputs": []
    },
    {
      "cell_type": "markdown",
      "source": [
        "6. Write a function to demonstrate the behavior of mutable and immutable arguments."
      ],
      "metadata": {
        "id": "cMZ2V7Z3cK3t"
      }
    },
    {
      "cell_type": "code",
      "source": [
        "def modify_stuff(immutable, mutable):\n",
        "    # Trying to change an immutable thing (like a number)\n",
        "    immutable += 10\n",
        "    print(\"Inside function (immutable):\", immutable)\n",
        "\n",
        "    # Changing a mutable thing (like a list)\n",
        "    mutable.append(99)\n",
        "    print(\"Inside function (mutable):\", mutable)\n",
        "\n",
        "# Immutable thing (number)\n",
        "num = 5\n",
        "# Mutable thing (list)\n",
        "my_list = [1, 2, 3]\n",
        "\n",
        "print(\"Before function call:\")\n",
        "print(\"Number:\", num)\n",
        "print(\"List:\", my_list)\n",
        "\n",
        "modify_stuff(num, my_list)\n",
        "\n",
        "print(\"\\nAfter function call:\")\n",
        "print(\"Number:\", num)  # Still the same\n",
        "print(\"List:\", my_list)  # Changed!"
      ],
      "metadata": {
        "id": "o3fKBqlQcOMx"
      },
      "execution_count": null,
      "outputs": []
    },
    {
      "cell_type": "markdown",
      "source": [
        "7. Write a function to demonstrate the behavior of mutable and immutable arguments."
      ],
      "metadata": {
        "id": "mGAdF69kcar_"
      }
    },
    {
      "cell_type": "code",
      "source": [
        "def test_mutable_immutable(num, my_list):\n",
        "    num += 10  # Modifying an immutable argument (integer)\n",
        "    my_list.append(4)  # Modifying a mutable argument (list)\n",
        "\n",
        "    print(\"Inside function - num:\", num)\n",
        "    print(\"Inside function - my_list:\", my_list)\n",
        "\n",
        "# Immutable argument (integer)\n",
        "x = 5\n",
        "# Mutable argument (list)\n",
        "y = [1, 2, 3]\n",
        "\n",
        "print(\"Before function call - x:\", x)\n",
        "print(\"Before function call - y:\", y)\n",
        "\n",
        "test_mutable_immutable(x, y)\n",
        "\n",
        "print(\"After function call - x:\", x)  # x remains unchanged\n",
        "print(\"After function call - y:\", y)  # y is modified"
      ],
      "metadata": {
        "id": "85HDDzbjckh0"
      },
      "execution_count": null,
      "outputs": []
    },
    {
      "cell_type": "markdown",
      "source": [
        "8. Write a program to demonstrate the use of logical operators."
      ],
      "metadata": {
        "id": "QghyqEsFc1oX"
      }
    },
    {
      "cell_type": "code",
      "source": [
        "# Logical Operators Example\n",
        "\n",
        "a = True\n",
        "b = False\n",
        "\n",
        "# Using 'and' operator\n",
        "print(\"a and b:\", a and b)  # False because both must be True\n",
        "\n",
        "# Using 'or' operator\n",
        "print(\"a or b:\", a or b)  # True because at least one is True\n",
        "\n",
        "# Using 'not' operator\n",
        "print(\"not a:\", not a)  # False because 'a' is True\n",
        "print(\"not b:\", not b)  # True because 'b' is False\n",
        "\n",
        "# Logical operators with numbers\n",
        "x = 10\n",
        "y = 5\n",
        "\n",
        "print(\"x > 5 and y < 10:\", x > 5 and y < 10)  # True (both conditions are True)\n",
        "print(\"x < 5 or y < 10:\", x < 5 or y < 10)   # True (one condition is True)\n",
        "print(\"not (x == 10):\", not (x == 10))       # False (x is 10, so `not` makes it False)"
      ],
      "metadata": {
        "id": "OP-kMWl2c7p_"
      },
      "execution_count": null,
      "outputs": []
    },
    {
      "cell_type": "markdown",
      "source": [
        "9. Write a Python program to convert user input from string to integer, float, and boolean types."
      ],
      "metadata": {
        "id": "QLGbu0e8dHl2"
      }
    },
    {
      "cell_type": "code",
      "source": [
        "user_input = input(\"Enter a value: \")\n",
        "\n",
        "int_input = int(user_input)\n",
        "float_input = float(user_input)\n",
        "bool_input = bool(user_input)\n",
        "\n",
        "print(\"Input as integer:\", int_input)\n",
        "print(\"Input as float:\", float_input)\n",
        "print(\"Input as boolean:\", bool_input)"
      ],
      "metadata": {
        "id": "_izGrK3BdLUG"
      },
      "execution_count": null,
      "outputs": []
    },
    {
      "cell_type": "markdown",
      "source": [
        "10.Write code to demonstrate type casting with list elements."
      ],
      "metadata": {
        "id": "8dosSlZ3dRHq"
      }
    },
    {
      "cell_type": "code",
      "source": [
        "# Original list with different data types\n",
        "z_list = [\"1\", \"45\", \"6.7\", \"Zopper\"]  # All elements are strings\n",
        "\n",
        "# Convert elements to different types\n",
        "int_list = [int(z_list[0]), int(z_list[1])]  # Convert first two to integers\n",
        "float_list = [float(z_list[2])]  # Convert third element to float\n",
        "bool_list = [bool(z_list[3])]  # Convert fourth element to boolean\n",
        "\n",
        "# Print results\n",
        "print(\"Original list:\", z_list)\n",
        "print(\"As integers:\", int_list)\n",
        "print(\"As floats:\", float_list)\n",
        "print(\"As booleans:\", bool_list)"
      ],
      "metadata": {
        "id": "7SI8uryPdaWr"
      },
      "execution_count": null,
      "outputs": []
    },
    {
      "cell_type": "markdown",
      "source": [
        "11. Write a program that checks if a number is positive, negative, or zero."
      ],
      "metadata": {
        "id": "UEdAWfGidf1k"
      }
    },
    {
      "cell_type": "code",
      "source": [
        "# Get user input\n",
        "number = int(input(\"Write a number to check: \"))\n",
        "\n",
        "# Check if the number is positive, negative, or zero\n",
        "if number<0:\n",
        "    print(\"The number is negative.\")\n",
        "elif number>0:\n",
        "    print(\"The number is positive.\")\n",
        "else:\n",
        "    print(\"The number is zero.\")"
      ],
      "metadata": {
        "id": "7tkNvuV9dj5F"
      },
      "execution_count": null,
      "outputs": []
    },
    {
      "cell_type": "markdown",
      "source": [
        "12. Write a for loop to print numbers from 1 to 10."
      ],
      "metadata": {
        "id": "zErxP-jfdpsL"
      }
    },
    {
      "cell_type": "code",
      "source": [
        "for i in range(1,11):\n",
        "  if i<10:\n",
        "    print(i,end=\", \")\n",
        "  else:\n",
        "    print(i)"
      ],
      "metadata": {
        "id": "H7nSKNwmdxBW"
      },
      "execution_count": null,
      "outputs": []
    },
    {
      "cell_type": "markdown",
      "source": [
        "13. Write a Python program to find the sum of all even numbers between 1 and 50."
      ],
      "metadata": {
        "id": "oKHGUmUyd9P4"
      }
    },
    {
      "cell_type": "code",
      "source": [
        "# Initialize sum variable\n",
        "sum_of_even = 0\n",
        "\n",
        "# Loop through numbers from 1 to 50\n",
        "for i in range(2, 51, 2):  # Start from 2, step by 2 to get even numbers\n",
        "    sum_of_even += i\n",
        "\n",
        "# Print the result\n",
        "print(\"Sum of even numbers between 1 and 50:\", sum_of_even)"
      ],
      "metadata": {
        "id": "zilrw4yUeDvq"
      },
      "execution_count": null,
      "outputs": []
    },
    {
      "cell_type": "markdown",
      "source": [
        "14. Write a program to reverse a string using a while loop."
      ],
      "metadata": {
        "id": "Pa_vNw_keI3y"
      }
    },
    {
      "cell_type": "code",
      "source": [
        "# Get user input\n",
        "text = input(\"Enter a string: \")\n",
        "\n",
        "# Initialize variables\n",
        "reversed_text = \"\"  # This will store the reversed string\n",
        "index = len(text) - 1  # Start from the last character\n",
        "\n",
        "# Loop through the string in reverse order\n",
        "while index >= 0:\n",
        "    reversed_text += text[index]  # Add each character to reversed_text\n",
        "    index -= 1  # Move to the previous character\n",
        "\n",
        "# Print the reversed string\n",
        "print(\"Reversed string:\", reversed_text)"
      ],
      "metadata": {
        "id": "6V6ntf8PeOOa"
      },
      "execution_count": null,
      "outputs": []
    },
    {
      "cell_type": "markdown",
      "source": [
        "15. Write a Python program to calculate the factorial of a number provided by the user using a while loop."
      ],
      "metadata": {
        "id": "iDdqciBqeTld"
      }
    },
    {
      "cell_type": "code",
      "source": [
        "# Get user input\n",
        "num = int(input(\"Enter a number: \"))\n",
        "\n",
        "# Initialize variables\n",
        "factorial = 1\n",
        "i = num  # Start from the given number\n",
        "\n",
        "# Use while loop to calculate factorial\n",
        "while i > 0:\n",
        "    factorial *= i  # Multiply factorial by the current number\n",
        "    i -= 1  # Decrease the number by 1\n",
        "\n",
        "# Print the result\n",
        "print(f\"The factorial of {num} is: {factorial}\")"
      ],
      "metadata": {
        "id": "9vUjRlNfea59"
      },
      "execution_count": null,
      "outputs": []
    }
  ]
}